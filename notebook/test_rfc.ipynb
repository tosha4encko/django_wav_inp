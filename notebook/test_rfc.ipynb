{
 "cells": [
  {
   "cell_type": "code",
   "execution_count": 12,
   "metadata": {},
   "outputs": [
    {
     "name": "stdout",
     "output_type": "stream",
     "text": [
      "Populating the interactive namespace from numpy and matplotlib\n"
     ]
    }
   ],
   "source": [
    "from sklearn import random_projection, cross_validation, datasets, grid_search, linear_model, metrics, manifold, preprocessing\n",
    "import numpy as np\n",
    "import pandas as pd\n",
    "from sklearn.ensemble import RandomForestClassifier\n",
    "from sklearn.neighbors import KNeighborsClassifier\n",
    "from sklearn.metrics import classification_report\n",
    "from collections import  Counter\n",
    "import numpy as np\n",
    "import pandas as pd\n",
    "from sklearn.decomposition import RandomizedPCA\n",
    "from sklearn import manifold\n",
    "import matplotlib.pyplot as plt\n",
    "from sklearn import preprocessing\n",
    "from sklearn.cluster import KMeans\n",
    "from sklearn import svm\n",
    "from sklearn.decomposition import TruncatedSVD, PCA\n",
    "%pylab inline"
   ]
  },
  {
   "cell_type": "code",
   "execution_count": 13,
   "metadata": {},
   "outputs": [],
   "source": [
    "list_df = [pd.read_csv('dataframe/genres_13.csv'), pd.read_csv('dataframe/genres_20.csv'),\n",
    "           pd.read_csv('dataframe/genres_30.csv'), pd.read_csv('dataframe/genres_40.csv'), \n",
    "           pd.read_csv('dataframe/genres_50.csv')]\n",
    "for i in range(5):\n",
    "    list_df[i].loc[:, 'm1':] = preprocessing.normalize(list_df[i].loc[:, 'm1':])\n",
    "    list_df[i] = list_df[i].sample(frac=1)"
   ]
  },
  {
   "cell_type": "code",
   "execution_count": 14,
   "metadata": {},
   "outputs": [],
   "source": [
    "def search_abnom(dataframe, label, g, nu):\n",
    "    svm_ = svm.OneClassSVM(gamma=g, nu=nu)\n",
    "    svm_.fit(dataframe[dataframe['tag'] == label].loc[:, 'm1':])\n",
    "    l = svm_.predict(dataframe[dataframe['tag'] == label].loc[:, 'm1':])\n",
    "    \n",
    "    return l\n",
    "\n",
    "labels = ['hiphop', 'neoclassic', 'jazz', 'rock', 'metal', 'synth', 'pop', 'blues']\n",
    "for i in range(len(list_df)):\n",
    "    svm_label = []\n",
    "    for label in labels:\n",
    "        svm_label += search_abnom(list_df[i], label, 2, 0.01).tolist()\n",
    "    list_df[i] = list_df[i][np.array(svm_label) == 1]"
   ]
  },
  {
   "cell_type": "code",
   "execution_count": 17,
   "metadata": {},
   "outputs": [],
   "source": [
    "rfc = RandomForestClassifier(max_depth=200, n_estimators=2000)"
   ]
  },
  {
   "cell_type": "code",
   "execution_count": 18,
   "metadata": {},
   "outputs": [
    {
     "data": {
      "image/png": "[encoded data removed]",
      "text/plain": [
       "<matplotlib.figure.Figure at 0x7f8b09bcfdd8>"
      ]
     },
     "metadata": {},
     "output_type": "display_data"
    },
    {
     "data": {
      "image/png": "[encoded data removed]",
      "text/plain": [
       "<matplotlib.figure.Figure at 0x7f8b08771908>"
      ]
     },
     "metadata": {},
     "output_type": "display_data"
    }
   ],
   "source": [
    "list_rps = []\n",
    "for i in range(5):\n",
    "    ridge_scoring2 = cross_validation.cross_val_score(rfc, list_df[i].loc[:, 'm1':], list_df[i]['tag'], \n",
    "                                                          scoring='f1_weighted', cv = 5)\n",
    "    list_rps.append(ridge_scoring2)\n",
    "\n",
    "m = np.transpose(np.array([list_rps]).mean(axis=2))\n",
    "s = np.transpose(np.array([list_rps]).std(axis=2))\n",
    "                 \n",
    "figure(figsize=(6,5))\n",
    "plt.imshow(m)\n",
    "plt.colorbar()\n",
    "plt.yticks(np.arange(5), ('13', '20', '30', '40', '50'))\n",
    "plt.xticks([0], ('mean',))\n",
    "show()\n",
    "\n",
    "figure(figsize=(6,5))\n",
    "plt.imshow(s)\n",
    "plt.colorbar()\n",
    "plt.yticks(np.arange(5), ('13', '20', '30', '40', '50'))\n",
    "plt.xticks([0], ('std',))\n",
    "show()"
   ]
  },
  {
   "cell_type": "code",
   "execution_count": null,
   "metadata": {},
   "outputs": [],
   "source": [
    "def synthesis_coef(list_numb, func):\n",
    "    list_scoring = []\n",
    "    for i in range(5):\n",
    "        list_rps = []\n",
    "        for j in range(4):\n",
    "            projection = func(n_components = list_numb[i][j])\n",
    "            data_rp = projection.fit_transform(list_df[i].loc[:, 'm1':])\n",
    "            ridge_scoring2 = cross_validation.cross_val_score(rfc, data_rp, list_df[i].loc[:, 'tag'], \n",
    "                                                              scoring='f1_weighted', cv = 5)\n",
    "    #         print('Ridge mean:{}, max:{}, min:{}, std:{}'.format(ridge_scoring2.mean(), ridge_scoring2.max(),\n",
    "    #                                                              ridge_scoring2.min(), ridge_scoring2.std()))\n",
    "            list_rps.append(ridge_scoring2)\n",
    "        list_scoring.append(list_rps)\n",
    "    return list_scoring\n",
    "\n",
    "def selection_coef(list_numb, list_fi):\n",
    "    list_scoring = []\n",
    "    for i in range(5):\n",
    "        list_rps = []\n",
    "        for j in range(4):\n",
    "            data_more_med = list_df[i].loc[:, list_fi[i]>(np.median(list_fi[i])*list_numb[j])]\n",
    "            ridge_scoring2 = cross_validation.cross_val_score(rfc, data_more_med.loc[:, 'm1':], data_more_med.loc[:, 'tag'], \n",
    "                                                              scoring='f1_weighted', cv = 5)\n",
    "    #         print('Ridge mean:{}, max:{}, min:{}, std:{}'.format(ridge_scoring2.mean(), ridge_scoring2.max(),\n",
    "    #                                                              ridge_scoring2.min(), ridge_scoring2.std()))\n",
    "            list_rps.append(ridge_scoring2)\n",
    "        list_scoring.append(list_rps)\n",
    "    return list_scoring\n",
    "\n",
    "def pain_ls(list_scoring):\n",
    "    figure(figsize=(6,5))\n",
    "    plt.imshow(np.array(list_scoring).mean(axis=2)) \n",
    "    plt.colorbar()\n",
    "    # plt.plot(range(6), np.array(list_scoring[0]).mean(axis=1))\n",
    "    # plt.plot(range(6), np.array(list_scoring[0]).max(axis=1) - np.array(list_scoring).min(axis=1))\n",
    "    plt.yticks(np.arange(5), ('13', '20', '30', '40', '50'))\n",
    "    plt.xticks(np.arange(4), ('2', '3', '4', '5'))\n",
    "    show()\n",
    "\n",
    "    figure(figsize=(6,5))\n",
    "    plt.imshow(np.array(list_scoring).max(axis=2) - np.array(list_scoring).min(axis=2)) \n",
    "    plt.colorbar()\n",
    "    # plt.plot(range(6), np.array(list_scoring[0]).mean(axis=1))\n",
    "    # plt.plot(range(6), np.array(list_scoring[0]).max(axis=1) - np.array(list_scoring).min(axis=1))\n",
    "    plt.yticks(np.arange(5), ('13', '20', '30', '40', '50'))\n",
    "    plt.xticks(np.arange(4), ('2', '3', '4', '5'))\n",
    "    show()"
   ]
  },
  {
   "cell_type": "code",
   "execution_count": 22,
   "metadata": {},
   "outputs": [],
   "source": [
    "rfc = RandomForestClassifier(max_depth=80, min_samples_split=6, n_estimators=2550)\n",
    "fi = []\n",
    "for df in list_df:\n",
    "    rfc.fit(df.loc[:, 'm1':], df.loc[:, 'tag'])\n",
    "    fi.append(rfc.feature_importances_) "
   ]
  },
  {
   "cell_type": "code",
   "execution_count": 23,
   "metadata": {},
   "outputs": [
    {
     "data": {
      "image/png": "[encoded data removed]",
      "text/plain": [
       "<matplotlib.figure.Figure at 0x7f8b08ca6278>"
      ]
     },
     "metadata": {},
     "output_type": "display_data"
    },
    {
     "data": {
      "image/png": "[encoded data removed]",
      "text/plain": [
       "<matplotlib.figure.Figure at 0x7f8b085dd438>"
      ]
     },
     "metadata": {},
     "output_type": "display_data"
    }
   ],
   "source": [
    "list_numb = [0.5,  1,  1.5,  1.9]\n",
    "list_rps = []\n",
    "for j in range(4):\n",
    "    data_more_med = list_df[3].loc[:, fi[3]>np.median(fi[3])*list_numb[j]]\n",
    "    ridge_scoring2 = cross_validation.cross_val_score(rfc, data_more_med.loc[:, 'm1':], data_more_med.loc[:, 'tag'], \n",
    "                                                              scoring='f1_weighted', cv = 5)\n",
    "    #         print('Ridge mean:{}, max:{}, min:{}, std:{}'.format(ridge_scoring2.mean(), ridge_scoring2.max(),\n",
    "    #                                                              ridge_scoring2.min(), ridge_scoring2.std()))\n",
    "    list_rps.append(ridge_scoring2)\n",
    "\n",
    "m = np.transpose(np.array([list_rps]).mean(axis=2))\n",
    "s = np.transpose(np.array([list_rps]).std(axis=2))\n",
    "    \n",
    "figure(figsize=(6,5))\n",
    "plt.imshow(m)\n",
    "plt.colorbar()\n",
    "plt.yticks(np.arange(4), ('0.5',  '1',  '1.5',  '1.9'))\n",
    "plt.xticks([0], ('mean',))\n",
    "show()\n",
    "\n",
    "figure(figsize=(6,5))\n",
    "plt.imshow(s)\n",
    "plt.colorbar()\n",
    "plt.yticks(np.arange(4), ('0.5', '1',  '1.5',  '1.9'))\n",
    "plt.xticks([0], ('std',))\n",
    "show()"
   ]
  },
  {
   "cell_type": "code",
   "execution_count": null,
   "metadata": {},
   "outputs": [],
   "source": []
  },
  {
   "cell_type": "code",
   "execution_count": null,
   "metadata": {},
   "outputs": [],
   "source": [
    "from scipy import save\n",
    "save('boost_param.npy', fi[3]>np.median(fi[3]))"
   ]
  },
  {
   "cell_type": "code",
   "execution_count": null,
   "metadata": {},
   "outputs": [],
   "source": [
    "np.shape(fi[3]>np.median(fi[3]))"
   ]
  },
  {
   "cell_type": "code",
   "execution_count": null,
   "metadata": {},
   "outputs": [],
   "source": []
  }
 ],
 "metadata": {
  "kernelspec": {
   "display_name": "Python 3",
   "language": "python",
   "name": "python3"
  },
  "language_info": {
   "codemirror_mode": {
    "name": "ipython",
    "version": 3
   },
   "file_extension": ".py",
   "mimetype": "text/x-python",
   "name": "python",
   "nbconvert_exporter": "python",
   "pygments_lexer": "ipython3",
   "version": "3.6.4"
  }
 },
 "nbformat": 4,
 "nbformat_minor": 2
}
