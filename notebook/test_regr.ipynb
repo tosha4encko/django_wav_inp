{
 "cells": [
  {
   "cell_type": "code",
   "execution_count": 1,
   "metadata": {},
   "outputs": [
    {
     "name": "stderr",
     "output_type": "stream",
     "text": [
      "/home/tosha/anaconda3/lib/python3.6/site-packages/sklearn/cross_validation.py:41: DeprecationWarning: This module was deprecated in version 0.18 in favor of the model_selection module into which all the refactored classes and functions are moved. Also note that the interface of the new CV iterators are different from that of this module. This module will be removed in 0.20.\n",
      "  \"This module will be removed in 0.20.\", DeprecationWarning)\n",
      "/home/tosha/anaconda3/lib/python3.6/site-packages/sklearn/grid_search.py:42: DeprecationWarning: This module was deprecated in version 0.18 in favor of the model_selection module into which all the refactored classes and functions are moved. This module will be removed in 0.20.\n",
      "  DeprecationWarning)\n"
     ]
    },
    {
     "name": "stdout",
     "output_type": "stream",
     "text": [
      "Populating the interactive namespace from numpy and matplotlib\n"
     ]
    }
   ],
   "source": [
    "from sklearn import metrics, random_projection, cross_validation, datasets, grid_search, linear_model, metrics, random_projection, manifold, preprocessing\n",
    "import numpy as np\n",
    "import pandas as pd\n",
    "from sklearn.ensemble import RandomForestClassifier\n",
    "from sklearn.neighbors import KNeighborsClassifier\n",
    "from sklearn.linear_model import LogisticRegression\n",
    "from sklearn.metrics import classification_report\n",
    "from collections import  Counter\n",
    "import numpy as np\n",
    "import pandas as pd\n",
    "from sklearn.decomposition import RandomizedPCA\n",
    "from sklearn import manifold\n",
    "import matplotlib.pyplot as plt\n",
    "from sklearn import preprocessing\n",
    "from sklearn.cluster import KMeans\n",
    "from sklearn.linear_model import SGDRegressor, RandomizedLogisticRegression\n",
    "from sklearn.decomposition import TruncatedSVD, PCA\n",
    "from sklearn import svm\n",
    "%pylab inline"
   ]
  },
  {
   "cell_type": "code",
   "execution_count": 2,
   "metadata": {},
   "outputs": [],
   "source": [
    "list_df = [pd.read_csv('dataframe/genres_13.csv'), pd.read_csv('dataframe/genres_20.csv'),\n",
    "           pd.read_csv('dataframe/genres_30.csv'), pd.read_csv('dataframe/genres_40.csv'), \n",
    "           pd.read_csv('dataframe/genres_50.csv')]\n",
    "for i in range(len(list_df)):\n",
    "    list_df[i].loc[:, 'm1':] = preprocessing.normalize(list_df[i].loc[:, 'm1':])\n",
    "    list_df[i] = list_df[i].sample(frac=1)\n",
    "#     list_df[i] = list_df[i][:800]"
   ]
  },
  {
   "cell_type": "code",
   "execution_count": 3,
   "metadata": {},
   "outputs": [],
   "source": [
    "def search_abnom(dataframe, label, g, nu):\n",
    "    svm_ = svm.OneClassSVM(gamma=g, nu=nu)\n",
    "    svm_.fit(dataframe[dataframe['tag'] == label].loc[:, 'm1':])\n",
    "    l = svm_.predict(dataframe[dataframe['tag'] == label].loc[:, 'm1':])\n",
    "    return l\n",
    "\n",
    "labels = ['hiphop', 'classical', 'jazz', 'rock', 'metal', 'synth', 'pop', 'blues']\n",
    "for i in range(len(list_df)):\n",
    "    for label in labels:\n",
    "        svm_label = search_abnom(list_df[i], label, 2, 0.15).tolist()\n",
    "        list_df[i][list_df[i]['tag'] == label] = list_df[i][list_df[i]['tag'] == label][np.array(svm_label) == 1]\n",
    "        list_df[i] = list_df[i].dropna()"
   ]
  },
  {
   "cell_type": "code",
   "execution_count": 5,
   "metadata": {},
   "outputs": [],
   "source": [
    "lrc = LogisticRegression(C = 350)"
   ]
  },
  {
   "cell_type": "code",
   "execution_count": 6,
   "metadata": {},
   "outputs": [
    {
     "data": {
      "image/png": "[encoded data removed]",
      "text/plain": [
       "<matplotlib.figure.Figure at 0x7fbe41c4b7b8>"
      ]
     },
     "metadata": {},
     "output_type": "display_data"
    },
    {
     "data": {
      "image/png": "[encoded data removed]",
      "text/plain": [
       "<matplotlib.figure.Figure at 0x7fbe41ec62b0>"
      ]
     },
     "metadata": {},
     "output_type": "display_data"
    }
   ],
   "source": [
    "list_rps = []\n",
    "for i in range(5):\n",
    "    ridge_scoring2 = cross_validation.cross_val_score(lrc, list_df[i].loc[:, 'm1':], list_df[i]['tag'], \n",
    "                                                          scoring='f1_weighted', cv = 10)\n",
    "    list_rps.append(ridge_scoring2)\n",
    "\n",
    "m = np.transpose(np.array([list_rps]).mean(axis=2))\n",
    "s = np.transpose(np.array([list_rps]).std(axis=2))\n",
    "                 \n",
    "figure(figsize=(6,5))\n",
    "plt.imshow(m)\n",
    "plt.colorbar()\n",
    "plt.yticks(np.arange(5), ('13', '20', '30', '40', '50'))\n",
    "plt.xticks([0], ('mean',))\n",
    "\n",
    "figure(figsize=(6,5))\n",
    "plt.imshow(s)\n",
    "plt.colorbar()\n",
    "plt.yticks(np.arange(5), ('13', '20', '30', '40', '50'))\n",
    "plt.xticks([0], ('std',))\n",
    "show()"
   ]
  },
  {
   "cell_type": "code",
   "execution_count": 40,
   "metadata": {},
   "outputs": [
    {
     "name": "stdout",
     "output_type": "stream",
     "text": [
      "Ridge mean:0.8016263138336249, max:0.8319662957893705, min:0.7604053894864823, std:0.025597102133244027\n"
     ]
    }
   ],
   "source": [
    "ridge_scoring2 = cross_validation.cross_val_score(lrc, list_df[3].loc[:, 'm1':], list_df[3].loc[:, 'tag'], \n",
    "                                                          scoring='f1_weighted', cv = 10)\n",
    "print('Ridge mean:{}, max:{}, min:{}, std:{}'.format(ridge_scoring2.mean(), ridge_scoring2.max(),\n",
    "                                                     ridge_scoring2.min(), ridge_scoring2.std()))"
   ]
  },
  {
   "cell_type": "code",
   "execution_count": 60,
   "metadata": {},
   "outputs": [],
   "source": [
    "def synthesis_coef(list_numb, func):\n",
    "    list_scoring = []\n",
    "    for i in range(5):\n",
    "        list_rps = []\n",
    "        for j in range(4):\n",
    "            projection = func(n_components = list_numb[i][j])\n",
    "            data_rp = projection.fit_transform(list_df[i].loc[:, 'm1':])\n",
    "            ridge_scoring2 = cross_validation.cross_val_score(lrc, data_rp, list_df[i].loc[:, 'tag'], \n",
    "                                                              scoring='f1_weighted', cv = 10)\n",
    "    #         print('Ridge mean:{}, max:{}, min:{}, std:{}'.format(ridge_scoring2.mean(), ridge_scoring2.max(),\n",
    "    #                                                              ridge_scoring2.min(), ridge_scoring2.std()))\n",
    "            list_rps.append(ridge_scoring2)\n",
    "        list_scoring.append(list_rps)\n",
    "    return list_scoring\n",
    "\n",
    "def selection_coef(list_numb, list_fi):\n",
    "    list_scoring = []\n",
    "    for i in range(5):\n",
    "        list_rps = []\n",
    "        for j in range(4):\n",
    "            data_more_med = list_df[i].loc[:, list_fi[i]>np.median(list_fi[i])*list_numb[j]]\n",
    "            ridge_scoring2 = cross_validation.cross_val_score(lrc, data_more_med.loc[:, 'm1':], data_more_med.loc[:, 'tag'], \n",
    "                                                              scoring='f1_weighted', cv = 10)\n",
    "    #         print('Ridge mean:{}, max:{}, min:{}, std:{}'.format(ridge_scoring2.mean(), ridge_scoring2.max(),\n",
    "    #                                                              ridge_scoring2.min(), ridge_scoring2.std()))\n",
    "            list_rps.append(ridge_scoring2)\n",
    "        list_scoring.append(list_rps)\n",
    "    return list_scoring\n",
    "\n",
    "def pain_ls(list_scoring):\n",
    "    figure(figsize=(6,5))\n",
    "    plt.imshow(np.array(list_scoring).mean(axis=2)) \n",
    "    plt.colorbar()\n",
    "    # plt.plot(range(6), np.array(list_scoring[0]).mean(axis=1))\n",
    "    # plt.plot(range(6), np.array(list_scoring[0]).max(axis=1) - np.array(list_scoring).min(axis=1))\n",
    "    plt.yticks(np.arange(5), ('13', '20', '30', '40', '50'))\n",
    "    plt.xticks(np.arange(4), ('2', '3', '4', '5'))\n",
    "    show()\n",
    "\n",
    "    figure(figsize=(6,5))\n",
    "    plt.imshow(np.array(list_scoring).std(axis=2)) \n",
    "    plt.colorbar()\n",
    "    # plt.plot(range(6), np.array(list_scoring[0]).mean(axis=1))\n",
    "    # plt.plot(range(6), np.array(list_scoring[0]).max(axis=1) - np.array(list_scoring).min(axis=1))\n",
    "    plt.yticks(np.arange(5), ('13', '20', '30', '40', '50'))\n",
    "    plt.xticks(np.arange(4), ('2', '3', '4', '5'))\n",
    "    show()"
   ]
  },
  {
   "cell_type": "code",
   "execution_count": 61,
   "metadata": {},
   "outputs": [
    {
     "data": {
      "image/png": "[encoded data removed]",
      "text/plain": [
       "<matplotlib.figure.Figure at 0x7fc8428b1dd8>"
      ]
     },
     "metadata": {},
     "output_type": "display_data"
    },
    {
     "data": {
      "image/png": "[encoded data removed]",
      "text/plain": [
       "<matplotlib.figure.Figure at 0x7fc842942358>"
      ]
     },
     "metadata": {},
     "output_type": "display_data"
    }
   ],
   "source": [
    "list_numb = [[20,  30,  40,  50],\n",
    "             [40,  55,  70,  85],\n",
    "             [60,  80,  105, 130],\n",
    "             [80,  120, 150, 170],\n",
    "             [100, 140, 180, 220]]\n",
    "pain_ls(synthesis_coef(list_numb, TruncatedSVD))"
   ]
  },
  {
   "cell_type": "code",
   "execution_count": 62,
   "metadata": {},
   "outputs": [
    {
     "data": {
      "image/png": "[encoded data removed]",
      "text/plain": [
       "<matplotlib.figure.Figure at 0x7fc83a77b6a0>"
      ]
     },
     "metadata": {},
     "output_type": "display_data"
    },
    {
     "data": {
      "image/png": "[encoded data removed]",
      "text/plain": [
       "<matplotlib.figure.Figure at 0x7fc8428e2a58>"
      ]
     },
     "metadata": {},
     "output_type": "display_data"
    }
   ],
   "source": [
    "list_numb = [[20,  30,  40,  50],\n",
    "             [40,  55,  70,  85],\n",
    "             [60,  80,  105, 130],\n",
    "             [80,  120, 150, 170],\n",
    "             [100, 140, 180, 220]]\n",
    "pain_ls(synthesis_coef(list_numb, PCA))"
   ]
  },
  {
   "cell_type": "code",
   "execution_count": 63,
   "metadata": {},
   "outputs": [
    {
     "data": {
      "image/png": "[encoded data removed]",
      "text/plain": [
       "<matplotlib.figure.Figure at 0x7fc8425391d0>"
      ]
     },
     "metadata": {},
     "output_type": "display_data"
    },
    {
     "data": {
      "image/png": "[encoded data removed]",
      "text/plain": [
       "<matplotlib.figure.Figure at 0x7fc842608f28>"
      ]
     },
     "metadata": {},
     "output_type": "display_data"
    }
   ],
   "source": [
    "pain_ls(synthesis_coef(list_numb, random_projection.SparseRandomProjection))"
   ]
  },
  {
   "cell_type": "code",
   "execution_count": 69,
   "metadata": {},
   "outputs": [],
   "source": [
    "rfc = RandomForestClassifier(max_depth=25, min_samples_split=6, n_estimators=500)\n",
    "fi = []\n",
    "for df in list_df:\n",
    "    rfc.fit(df.loc[:, 'm1':], df.loc[:, 'tag'])\n",
    "    fi.append(rfc.feature_importances_) "
   ]
  },
  {
   "cell_type": "code",
   "execution_count": 70,
   "metadata": {},
   "outputs": [
    {
     "data": {
      "image/png": "[encoded data removed]",
      "text/plain": [
       "<matplotlib.figure.Figure at 0x7fc84274de80>"
      ]
     },
     "metadata": {},
     "output_type": "display_data"
    },
    {
     "data": {
      "image/png": "[encoded data removed]",
      "text/plain": [
       "<matplotlib.figure.Figure at 0x7fc8427bd358>"
      ]
     },
     "metadata": {},
     "output_type": "display_data"
    }
   ],
   "source": [
    "list_numb = [0.5,  1,  1.5,  1.9]\n",
    "pain_ls(selection_coef(list_numb, fi))"
   ]
  },
  {
   "cell_type": "code",
   "execution_count": null,
   "metadata": {},
   "outputs": [],
   "source": []
  },
  {
   "cell_type": "code",
   "execution_count": null,
   "metadata": {},
   "outputs": [],
   "source": []
  },
  {
   "cell_type": "code",
   "execution_count": null,
   "metadata": {},
   "outputs": [],
   "source": []
  },
  {
   "cell_type": "code",
   "execution_count": 76,
   "metadata": {},
   "outputs": [],
   "source": [
    "label_dict = {'hiphop':0, 'classical':1, 'jazz':2, 'rock':3, 'metal':4, 'synth':5, 'pop':6, 'blues': 7} \n",
    "int_label = []\n",
    "for label in list_df[3]['tag']:\n",
    "    int_label.append(label_dict[label])"
   ]
  },
  {
   "cell_type": "code",
   "execution_count": 79,
   "metadata": {},
   "outputs": [
    {
     "name": "stderr",
     "output_type": "stream",
     "text": [
      "/home/tosha/anaconda3/lib/python3.6/site-packages/sklearn/utils/deprecation.py:58: DeprecationWarning: Class RandomizedLogisticRegression is deprecated; The class RandomizedLogisticRegression is deprecated in 0.19 and will be removed in 0.21.\n",
      "  warnings.warn(msg, category=DeprecationWarning)\n"
     ]
    },
    {
     "name": "stdout",
     "output_type": "stream",
     "text": [
      "(1601, 110)\n"
     ]
    },
    {
     "name": "stderr",
     "output_type": "stream",
     "text": [
      "/home/tosha/anaconda3/lib/python3.6/site-packages/sklearn/utils/deprecation.py:58: DeprecationWarning: Class RandomizedLogisticRegression is deprecated; The class RandomizedLogisticRegression is deprecated in 0.19 and will be removed in 0.21.\n",
      "  warnings.warn(msg, category=DeprecationWarning)\n"
     ]
    },
    {
     "name": "stdout",
     "output_type": "stream",
     "text": [
      "(1601, 130)\n"
     ]
    },
    {
     "name": "stderr",
     "output_type": "stream",
     "text": [
      "/home/tosha/anaconda3/lib/python3.6/site-packages/sklearn/utils/deprecation.py:58: DeprecationWarning: Class RandomizedLogisticRegression is deprecated; The class RandomizedLogisticRegression is deprecated in 0.19 and will be removed in 0.21.\n",
      "  warnings.warn(msg, category=DeprecationWarning)\n"
     ]
    },
    {
     "name": "stdout",
     "output_type": "stream",
     "text": [
      "(1601, 149)\n"
     ]
    },
    {
     "name": "stderr",
     "output_type": "stream",
     "text": [
      "/home/tosha/anaconda3/lib/python3.6/site-packages/sklearn/utils/deprecation.py:58: DeprecationWarning: Class RandomizedLogisticRegression is deprecated; The class RandomizedLogisticRegression is deprecated in 0.19 and will be removed in 0.21.\n",
      "  warnings.warn(msg, category=DeprecationWarning)\n"
     ]
    },
    {
     "name": "stdout",
     "output_type": "stream",
     "text": [
      "(1601, 169)\n"
     ]
    },
    {
     "name": "stderr",
     "output_type": "stream",
     "text": [
      "/home/tosha/anaconda3/lib/python3.6/site-packages/sklearn/utils/deprecation.py:58: DeprecationWarning: Class RandomizedLogisticRegression is deprecated; The class RandomizedLogisticRegression is deprecated in 0.19 and will be removed in 0.21.\n",
      "  warnings.warn(msg, category=DeprecationWarning)\n"
     ]
    },
    {
     "name": "stdout",
     "output_type": "stream",
     "text": [
      "(1601, 177)\n"
     ]
    }
   ],
   "source": [
    "list_rps = []\n",
    "list_C = [0.75, 0.85, 1.0, 1.15, 1.30]\n",
    "for j in range(5):\n",
    "    rlg = RandomizedLogisticRegression(C=list_C[j])\n",
    "    rlg.fit(list_df[3].loc[:, 'm1':], int_label)\n",
    "    data_rlr = list_df[3].loc[:, np.array([1] + rlg.scores_.tolist())>0]\n",
    "    print(shape(data_rlr))\n",
    "    ridge_scoring2 = cross_validation.cross_val_score(lrc, data_rlr.loc[:, data_rlr.columns[1]:], data_rlr['tag'], \n",
    "                                                          scoring='f1_weighted', cv = 10)\n",
    "#         print('Ridge mean:{}, max:{}, min:{}, std:{}'.format(ridge_scoring2.mean(), ridge_scoring2.max(),\n",
    "#                                                              ridge_scoring2.min(), ridge_scoring2.std()))\n",
    "    list_rps.append(ridge_scoring2)"
   ]
  },
  {
   "cell_type": "code",
   "execution_count": null,
   "metadata": {},
   "outputs": [],
   "source": [
    "np.array([list_rps]).mean(axis=2)"
   ]
  },
  {
   "cell_type": "code",
   "execution_count": 81,
   "metadata": {},
   "outputs": [
    {
     "data": {
      "image/png": "[encoded data removed]",
      "text/plain": [
       "<matplotlib.figure.Figure at 0x7fc83a783b38>"
      ]
     },
     "metadata": {},
     "output_type": "display_data"
    },
    {
     "data": {
      "image/png": "[encoded data removed]",
      "text/plain": [
       "<matplotlib.figure.Figure at 0x7fc8428f1ef0>"
      ]
     },
     "metadata": {},
     "output_type": "display_data"
    }
   ],
   "source": [
    "figure(figsize=(6,5))\n",
    "plt.imshow(np.array([list_rps]).mean(axis=2)) \n",
    "plt.colorbar()\n",
    "# plt.plot(range(6), np.array(list_scoring[0]).mean(axis=1))\n",
    "# plt.plot(range(6), np.array(list_scoring[0]).max(axis=1) - np.array(list_scoring).min(axis=1))\n",
    "plt.xticks(np.arange(5), ('0.75', '0.85', '1.0', '1.15', '1.30'))\n",
    "plt.title('mean')\n",
    "show()\n",
    "\n",
    "figure(figsize=(6,5))\n",
    "plt.imshow(np.array([list_rps]).std(axis=2)) \n",
    "plt.colorbar()\n",
    "    # plt.plot(range(6), np.array(list_scoring[0]).mean(axis=1))\n",
    "    # plt.plot(range(6), np.array(list_scoring[0]).max(axis=1) - np.array(list_scoring).min(axis=1))\n",
    "plt.xticks(np.arange(5), ('0.75', '0.85', '1.0', '1.15', '1.30'))\n",
    "plt.title('std')\n",
    "show()"
   ]
  },
  {
   "cell_type": "code",
   "execution_count": null,
   "metadata": {},
   "outputs": [],
   "source": [
    "len(rlg.get_support()[rlg.get_support() == True])"
   ]
  },
  {
   "cell_type": "code",
   "execution_count": 85,
   "metadata": {},
   "outputs": [
    {
     "name": "stderr",
     "output_type": "stream",
     "text": [
      "/home/tosha/anaconda3/lib/python3.6/site-packages/sklearn/utils/deprecation.py:58: DeprecationWarning: Class RandomizedLogisticRegression is deprecated; The class RandomizedLogisticRegression is deprecated in 0.19 and will be removed in 0.21.\n",
      "  warnings.warn(msg, category=DeprecationWarning)\n"
     ]
    }
   ],
   "source": [
    "# from scipy import save\n",
    "\n",
    "rlg = RandomizedLogisticRegression(C=1.15)\n",
    "rlg.fit(list_df[3].loc[:, 'm1':], int_label)\n",
    "save('regr_param.npy', rlg.scores_>0)\n",
    "\n",
    "# (rlg.scores_)>0"
   ]
  }
 ],
 "metadata": {
  "kernelspec": {
   "display_name": "Python 3",
   "language": "python",
   "name": "python3"
  },
  "language_info": {
   "codemirror_mode": {
    "name": "ipython",
    "version": 3
   },
   "file_extension": ".py",
   "mimetype": "text/x-python",
   "name": "python",
   "nbconvert_exporter": "python",
   "pygments_lexer": "ipython3",
   "version": "3.6.4"
  }
 },
 "nbformat": 4,
 "nbformat_minor": 2
}
