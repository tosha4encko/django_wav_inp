{
 "cells": [
  {
   "cell_type": "code",
   "execution_count": 1,
   "metadata": {},
   "outputs": [
    {
     "name": "stderr",
     "output_type": "stream",
     "text": [
      "/home/tosha/anaconda3/lib/python3.6/site-packages/sklearn/cross_validation.py:41: DeprecationWarning: This module was deprecated in version 0.18 in favor of the model_selection module into which all the refactored classes and functions are moved. Also note that the interface of the new CV iterators are different from that of this module. This module will be removed in 0.20.\n",
      "  \"This module will be removed in 0.20.\", DeprecationWarning)\n",
      "/home/tosha/anaconda3/lib/python3.6/site-packages/sklearn/grid_search.py:42: DeprecationWarning: This module was deprecated in version 0.18 in favor of the model_selection module into which all the refactored classes and functions are moved. This module will be removed in 0.20.\n",
      "  DeprecationWarning)\n"
     ]
    },
    {
     "name": "stdout",
     "output_type": "stream",
     "text": [
      "Populating the interactive namespace from numpy and matplotlib\n"
     ]
    }
   ],
   "source": [
    "from sklearn import metrics, random_projection, cross_validation, datasets, grid_search, linear_model, metrics, random_projection, manifold, preprocessing\n",
    "import numpy as np\n",
    "import pandas as pd\n",
    "from sklearn.ensemble import RandomForestClassifier\n",
    "from sklearn.neighbors import KNeighborsClassifier\n",
    "from sklearn.linear_model import LogisticRegression\n",
    "from sklearn.metrics import classification_report\n",
    "from collections import  Counter\n",
    "import numpy as np\n",
    "import pandas as pd\n",
    "from sklearn.decomposition import RandomizedPCA\n",
    "from sklearn import manifold\n",
    "import matplotlib.pyplot as plt\n",
    "from sklearn import preprocessing\n",
    "from sklearn.cluster import KMeans\n",
    "from sklearn.svm import SVC, OneClassSVM\n",
    "from sklearn.decomposition import TruncatedSVD\n",
    "import xgboost as xgb\n",
    "from scipy import load, save\n",
    "import sklearn\n",
    "%pylab inline"
   ]
  },
  {
   "cell_type": "code",
   "execution_count": 29,
   "metadata": {},
   "outputs": [
    {
     "data": {
      "text/plain": [
       "(1601, 201)"
      ]
     },
     "execution_count": 29,
     "metadata": {},
     "output_type": "execute_result"
    }
   ],
   "source": [
    "dataframe = pd.read_csv('dataframe/genres_40.csv')\n",
    "dataframe.loc[:, 'm1':] = preprocessing.normalize(dataframe.loc[:, 'm1':])\n",
    "\n",
    "labels = ['hiphop', 'neoclassic', 'jazz', 'rock', 'metal', 'synth', 'pop', 'blues']\n",
    "labels_n = ['neoclassic', 'jazz',  'metal', 'pop']\n",
    "\n",
    "# dataframe = dataframe[dataframe['tag'] == 'neoclassic'].append(dataframe[dataframe['tag'] == 'jazz']).append(dataframe[dataframe['tag'] == 'pop']).append(dataframe[dataframe['tag'] == 'metal'])\n",
    "# dataframe.append(dataframe[dataframe['tag'] == 'pop'])\n",
    "# dataframe = dataframe.append(dataframe[dataframe['tag'] == 'jazz'])\n",
    "# dataframe = dataframe.append(dataframe[dataframe['tag'] == 'metal'])\n",
    "dataframe = dataframe.sample(frac=1)\n",
    "\n",
    "shape(dataframe)"
   ]
  },
  {
   "cell_type": "code",
   "execution_count": 30,
   "metadata": {},
   "outputs": [
    {
     "name": "stdout",
     "output_type": "stream",
     "text": [
      "(1353, 201)\n"
     ]
    }
   ],
   "source": [
    "def search_abnom(dataframe, label, g, nu):\n",
    "    svm_ = OneClassSVM(gamma=g, nu=nu)\n",
    "    svm_.fit(dataframe[dataframe['tag'] == label].loc[:, 'm1':])\n",
    "    l = svm_.predict(dataframe[dataframe['tag'] == label].loc[:, 'm1':])\n",
    "    return l\n",
    "\n",
    "labels = ['hiphop', 'classical', 'jazz', 'rock', 'metal', 'synth', 'pop', 'blues']\n",
    "for label in labels:\n",
    "    svm_label = search_abnom(dataframe, label, 2, 0.15).tolist()\n",
    "    dataframe[dataframe['tag'] == label] = dataframe[dataframe['tag'] == label][np.array(svm_label) == 1]\n",
    "    dataframe = dataframe.dropna()\n",
    "print(shape(dataframe))"
   ]
  },
  {
   "cell_type": "code",
   "execution_count": 4,
   "metadata": {},
   "outputs": [
    {
     "data": {
      "text/plain": [
       "[2, 1, 0]"
      ]
     },
     "execution_count": 4,
     "metadata": {},
     "output_type": "execute_result"
    }
   ],
   "source": [
    "def max_cl(arr):\n",
    "    list_max_i = []\n",
    "    for a in arr:\n",
    "        max_el = 0\n",
    "        max_i = 0\n",
    "        for i in range(len(a)):\n",
    "            if a[i] > max_el:\n",
    "                max_el = a[i]\n",
    "                max_i = i\n",
    "        list_max_i += [max_i]\n",
    "    return list_max_i\n",
    "\n",
    "max_cl([[1,2,3], [2,6,4], [8,1,2]])"
   ]
  },
  {
   "cell_type": "code",
   "execution_count": 5,
   "metadata": {},
   "outputs": [],
   "source": [
    "label_dict = {'hiphop':0, 'classical':1, 'jazz':2, 'rock':3, 'metal':4, 'synth':5, 'pop':6, 'blues': 7} \n",
    "int_label = []\n",
    "for label in dataframe['tag']:\n",
    "    int_label.append(label_dict[label])"
   ]
  },
  {
   "cell_type": "code",
   "execution_count": 6,
   "metadata": {},
   "outputs": [
    {
     "data": {
      "text/plain": [
       "(1355,)"
      ]
     },
     "execution_count": 6,
     "metadata": {},
     "output_type": "execute_result"
    }
   ],
   "source": [
    "# svm_label = []\n",
    "# for label in labels:\n",
    "#     svm_label += search_abnom(label, 2, 0.01).tolist()\n",
    "# dataframe_svm = dataframe[np.array(svm_label) == 1]\n",
    "\n",
    "# dataframe_svm_t = np.array(dataframe_svm.loc[:, 'm1':])\n",
    "# dataframe_svm_l = np.array(dataframe_svm['tag'])\n",
    "\n",
    "dataframe_svm_t = np.array(dataframe.loc[:, 'm1':])\n",
    "dataframe_svm_l = np.array(int_label)\n",
    "np.shape(dataframe_svm_l)"
   ]
  },
  {
   "cell_type": "code",
   "execution_count": 7,
   "metadata": {},
   "outputs": [],
   "source": [
    "dataframe_t = dataframe.loc[:, 'm1':]"
   ]
  },
  {
   "cell_type": "code",
   "execution_count": 19,
   "metadata": {},
   "outputs": [],
   "source": [
    "svcc = SVC(C=10, gamma=5, kernel = 'rbf', probability=True, random_state=10)\n",
    "lrc = LogisticRegression(C = 430, random_state = 15)\n",
    "knc = KNeighborsClassifier(weights = 'distance', n_neighbors=7, metric = 'manhattan')\n",
    "rfc = RandomForestClassifier(max_depth=23, n_estimators=1300)\n",
    "xgbc = xgb.XGBClassifier(silent=False, nthread=4, max_depth=2, n_estimators=4000, learning_rate=0.009)"
   ]
  },
  {
   "cell_type": "code",
   "execution_count": 42,
   "metadata": {},
   "outputs": [],
   "source": [
    "def fin_classif(list_model, list_param):\n",
    "    res_list = []\n",
    "    for train_ind, test_ind in cross_validation.StratifiedKFold(dataframe_svm_l, n_folds=5, shuffle=True, random_state=1):\n",
    "        np.random.shuffle(train_ind) \n",
    "        np.random.shuffle(test_ind)\n",
    "\n",
    "#         f_df = dataframe_svm_t[:, :]\n",
    "#         s_df = dataframe_svm_t[:, :]\n",
    "        df_ = dataframe_svm_t[:, list_param[0]]\n",
    "        svcc.fit(df_[train_ind], dataframe_svm_l[train_ind])\n",
    "        list_preds = list_model[0].predict_proba(df_[test_ind])\n",
    "\n",
    "        for i in range(1, len(list_model)):\n",
    "            df_ = dataframe_svm_t[:, list_param[i]]\n",
    "            list_model[i].fit(df_[train_ind], dataframe_svm_l[train_ind])\n",
    "            list_preds += list_model[i].predict_proba(df_[test_ind])\n",
    "#             list_preds += list_model[i].predict_proba(dataframe_svm_t[test_ind])\n",
    "            \n",
    "        res = max_cl(list_preds)\n",
    "        \n",
    "        res = metrics.accuracy_score(dataframe_svm_l[test_ind], res)\n",
    "        res_list += [res]\n",
    "        print(res)\n",
    "    return res_list"
   ]
  },
  {
   "cell_type": "code",
   "execution_count": 41,
   "metadata": {},
   "outputs": [
    {
     "name": "stdout",
     "output_type": "stream",
     "text": [
      "(1355, 165)\n",
      "0.8613138686131386\n",
      "(1355, 165)\n",
      "0.8713235294117647\n",
      "(1355, 165)\n",
      "0.8708487084870848\n",
      "(1355, 165)\n",
      "0.8962962962962963\n",
      "(1355, 165)\n",
      "0.8768656716417911\n",
      "mean = 0.8753296148900152\n",
      "std =  0.011614900656362233\n"
     ]
    }
   ],
   "source": [
    "rl = fin_classif([svcc, xgbc], [load('regr_param.npy'), load('boost_param.npy')])\n",
    "print('mean =', np.mean(rl))\n",
    "print('std = ', np.std(rl))"
   ]
  },
  {
   "cell_type": "code",
   "execution_count": 12,
   "metadata": {},
   "outputs": [
    {
     "name": "stdout",
     "output_type": "stream",
     "text": [
      "0.8613138686131386\n",
      "0.8897058823529411\n",
      "0.8929889298892989\n",
      "0.8851851851851852\n",
      "0.8731343283582089\n",
      "mean = 0.8804656388797547\n",
      "std =  0.011704934453393274\n"
     ]
    }
   ],
   "source": [
    "rl = fin_classif([svcc, rfc])\n",
    "print('mean =', np.mean(rl))\n",
    "print('std = ', np.std(rl))"
   ]
  },
  {
   "cell_type": "code",
   "execution_count": 29,
   "metadata": {},
   "outputs": [
    {
     "name": "stdout",
     "output_type": "stream",
     "text": [
      "0.8487084870848709\n",
      "0.8154981549815498\n",
      "0.8666666666666667\n",
      "0.8296296296296296\n",
      "0.8458646616541353\n",
      "mean = 0.8412735200033705\n",
      "std =  0.01744201157933252\n"
     ]
    }
   ],
   "source": [
    "rl = fin_classif([lrc, knc])\n",
    "print('mean =', np.mean(rl))\n",
    "print('std = ', np.std(rl))"
   ]
  },
  {
   "cell_type": "code",
   "execution_count": 13,
   "metadata": {},
   "outputs": [
    {
     "name": "stdout",
     "output_type": "stream",
     "text": [
      "0.843065693430657\n",
      "0.8492647058823529\n",
      "0.8265682656826568\n",
      "0.8518518518518519\n",
      "0.8470149253731343\n",
      "mean = 0.8435530884441306\n",
      "std =  0.008968813978657248\n"
     ]
    }
   ],
   "source": [
    "rl = fin_classif([lrc, knc, rfc])\n",
    "print('mean =', np.mean(rl))\n",
    "print('std = ', np.std(rl))"
   ]
  },
  {
   "cell_type": "code",
   "execution_count": 14,
   "metadata": {},
   "outputs": [
    {
     "name": "stdout",
     "output_type": "stream",
     "text": [
      "0.8613138686131386\n",
      "0.8823529411764706\n",
      "0.8597785977859779\n",
      "0.8777777777777778\n",
      "0.8694029850746269\n",
      "mean = 0.8701252340855984\n",
      "std =  0.008868967623129654\n"
     ]
    }
   ],
   "source": [
    "rl = fin_classif([knc, lrc, svcc])\n",
    "print('mean =', np.mean(rl))\n",
    "print('std = ', np.std(rl))"
   ]
  },
  {
   "cell_type": "code",
   "execution_count": 15,
   "metadata": {},
   "outputs": [
    {
     "name": "stdout",
     "output_type": "stream",
     "text": [
      "0.8722627737226277\n",
      "0.8897058823529411\n",
      "0.8782287822878229\n",
      "0.8888888888888888\n",
      "0.8694029850746269\n",
      "mean = 0.8796978624653816\n",
      "std =  0.008343364674503799\n"
     ]
    }
   ],
   "source": [
    "rl = fin_classif([rfc, knc, svcc])\n",
    "print('mean =', np.mean(rl))\n",
    "print('std = ', np.std(rl))"
   ]
  },
  {
   "cell_type": "code",
   "execution_count": 16,
   "metadata": {},
   "outputs": [
    {
     "name": "stdout",
     "output_type": "stream",
     "text": [
      "0.8540145985401459\n",
      "0.8602941176470589\n",
      "0.8708487084870848\n",
      "0.8740740740740741\n",
      "0.8768656716417911\n",
      "mean = 0.867219434078031\n",
      "std =  0.008666433067874553\n"
     ]
    }
   ],
   "source": [
    "rl = fin_classif([lrc, rfc, knc, svcc])\n",
    "print('mean =', np.mean(rl))\n",
    "print('std = ', np.std(rl))"
   ]
  },
  {
   "cell_type": "code",
   "execution_count": 17,
   "metadata": {},
   "outputs": [
    {
     "name": "stdout",
     "output_type": "stream",
     "text": [
      "0.8467153284671532\n",
      "0.8455882352941176\n",
      "0.8560885608856088\n",
      "0.8629629629629629\n",
      "0.8656716417910447\n",
      "mean = 0.8554053458801775\n",
      "std =  0.008183804168487158\n"
     ]
    }
   ],
   "source": [
    "rl = fin_classif([lrc, rfc, svcc])\n",
    "print('mean =', np.mean(rl))\n",
    "print('std = ', np.std(rl))"
   ]
  },
  {
   "cell_type": "code",
   "execution_count": 18,
   "metadata": {},
   "outputs": [
    {
     "name": "stdout",
     "output_type": "stream",
     "text": [
      "0.8540145985401459\n",
      "0.8786764705882353\n",
      "0.8819188191881919\n",
      "0.8777777777777778\n",
      "0.8656716417910447\n",
      "mean = 0.871611861577079\n",
      "std =  0.010383741866680165\n"
     ]
    }
   ],
   "source": [
    "rl = fin_classif([svcc])\n",
    "print('mean =', np.mean(rl))\n",
    "print('std = ', np.std(rl))"
   ]
  }
 ],
 "metadata": {
  "kernelspec": {
   "display_name": "Python 3",
   "language": "python",
   "name": "python3"
  },
  "language_info": {
   "codemirror_mode": {
    "name": "ipython",
    "version": 3
   },
   "file_extension": ".py",
   "mimetype": "text/x-python",
   "name": "python",
   "nbconvert_exporter": "python",
   "pygments_lexer": "ipython3",
   "version": "3.6.4"
  }
 },
 "nbformat": 4,
 "nbformat_minor": 2
}
