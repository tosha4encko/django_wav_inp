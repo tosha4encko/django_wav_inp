{
 "cells": [
  {
   "cell_type": "code",
   "execution_count": 1,
   "metadata": {},
   "outputs": [
    {
     "name": "stderr",
     "output_type": "stream",
     "text": [
      "/home/tosha/anaconda3/lib/python3.6/site-packages/sklearn/cross_validation.py:41: DeprecationWarning: This module was deprecated in version 0.18 in favor of the model_selection module into which all the refactored classes and functions are moved. Also note that the interface of the new CV iterators are different from that of this module. This module will be removed in 0.20.\n",
      "  \"This module will be removed in 0.20.\", DeprecationWarning)\n",
      "/home/tosha/anaconda3/lib/python3.6/site-packages/sklearn/grid_search.py:42: DeprecationWarning: This module was deprecated in version 0.18 in favor of the model_selection module into which all the refactored classes and functions are moved. This module will be removed in 0.20.\n",
      "  DeprecationWarning)\n"
     ]
    },
    {
     "name": "stdout",
     "output_type": "stream",
     "text": [
      "Populating the interactive namespace from numpy and matplotlib\n"
     ]
    }
   ],
   "source": [
    "from sklearn import metrics, random_projection, cross_validation, datasets, grid_search, linear_model, metrics, random_projection, manifold, preprocessing\n",
    "import numpy as np\n",
    "import pandas as pd\n",
    "from sklearn.ensemble import RandomForestClassifier\n",
    "from sklearn.neighbors import KNeighborsClassifier\n",
    "from sklearn.linear_model import LogisticRegression\n",
    "from sklearn.metrics import classification_report\n",
    "from collections import  Counter\n",
    "import numpy as np\n",
    "import pandas as pd\n",
    "from sklearn.decomposition import RandomizedPCA\n",
    "from sklearn import manifold\n",
    "import matplotlib.pyplot as plt\n",
    "from sklearn import preprocessing\n",
    "from sklearn.cluster import KMeans\n",
    "from sklearn.svm import SVC, OneClassSVM\n",
    "from sklearn.decomposition import TruncatedSVD\n",
    "import xgboost as xgb\n",
    "from scipy import load, save\n",
    "import sklearn\n",
    "%pylab inline"
   ]
  },
  {
   "cell_type": "code",
   "execution_count": 2,
   "metadata": {},
   "outputs": [
    {
     "data": {
      "text/plain": [
       "(1601, 201)"
      ]
     },
     "execution_count": 2,
     "metadata": {},
     "output_type": "execute_result"
    }
   ],
   "source": [
    "dataframe = pd.read_csv('dataframe/genres_40.csv')\n",
    "dataframe.loc[:, 'm1':] = preprocessing.normalize(dataframe.loc[:, 'm1':])\n",
    "\n",
    "labels = ['hiphop', 'classical', 'jazz', 'rock', 'metal', 'synth', 'pop', 'blues']\n",
    "# labels_n = ['neoclassic', 'jazz',  'metal', 'pop']\n",
    "\n",
    "# dataframe = dataframe[dataframe['tag'] == 'neoclassic'].append(dataframe[dataframe['tag'] == 'jazz']).append(dataframe[dataframe['tag'] == 'pop']).append(dataframe[dataframe['tag'] == 'metal'])\n",
    "# dataframe.append(dataframe[dataframe['tag'] == 'pop'])\n",
    "# dataframe = dataframe.append(dataframe[dataframe['tag'] == 'jazz'])\n",
    "# dataframe = dataframe.append(dataframe[dataframe['tag'] == 'metal'])\n",
    "dataframe = dataframe.sample(frac=1)\n",
    "\n",
    "shape(dataframe)"
   ]
  },
  {
   "cell_type": "code",
   "execution_count": 3,
   "metadata": {},
   "outputs": [
    {
     "name": "stdout",
     "output_type": "stream",
     "text": [
      "(1349, 201)\n"
     ]
    }
   ],
   "source": [
    "def search_abnom(dataframe, label, g, nu):\n",
    "    svm_ = OneClassSVM(gamma=g, nu=nu)\n",
    "    svm_.fit(dataframe[dataframe['tag'] == label].loc[:, 'm1':])\n",
    "    l = svm_.predict(dataframe[dataframe['tag'] == label].loc[:, 'm1':])\n",
    "    return l\n",
    "\n",
    "labels = ['hiphop', 'classical', 'jazz', 'rock', 'metal', 'synth', 'pop', 'blues']\n",
    "for label in labels:\n",
    "    svm_label = search_abnom(dataframe, label, 2, 0.15).tolist()\n",
    "    dataframe[dataframe['tag'] == label] = dataframe[dataframe['tag'] == label][np.array(svm_label) == 1]\n",
    "    dataframe = dataframe.dropna()\n",
    "print(shape(dataframe))"
   ]
  },
  {
   "cell_type": "code",
   "execution_count": 4,
   "metadata": {},
   "outputs": [
    {
     "data": {
      "text/plain": [
       "(1349,)"
      ]
     },
     "execution_count": 4,
     "metadata": {},
     "output_type": "execute_result"
    }
   ],
   "source": [
    "# svm_label = []\n",
    "# for label in labels:\n",
    "#     svm_label += search_abnom(label, 2, 0.001).tolist()\n",
    "# dataframe_svm = dataframe[np.array(svm_label) == 1]\n",
    "\n",
    "# dataframe_svm_t = np.array(dataframe_svm.loc[:, 'm1':])\n",
    "# dataframe_svm_l = np.array(dataframe_svm['tag'])\n",
    "\n",
    "dataframe_svm_t = np.array(dataframe.loc[:, 'm1':])\n",
    "dataframe_svm_l = np.array(dataframe['tag'])\n",
    "np.shape(dataframe_svm_l)"
   ]
  },
  {
   "cell_type": "code",
   "execution_count": 5,
   "metadata": {},
   "outputs": [],
   "source": [
    "kmeans1 = KMeans(n_clusters=4, random_state=10)\n",
    "preds1 = kmeans1.fit_predict(dataframe_svm_t)\n",
    "kmeans2 = KMeans(n_clusters=8, random_state=10)\n",
    "preds2 = kmeans2.fit_predict(dataframe_svm_t)\n",
    "kmeans3 = KMeans(n_clusters=12, random_state=10)\n",
    "preds3 = kmeans3.fit_predict(dataframe_svm_t)"
   ]
  },
  {
   "cell_type": "code",
   "execution_count": 6,
   "metadata": {},
   "outputs": [],
   "source": [
    "svcc = SVC(C=10, gamma=5, kernel = 'rbf', probability=True)\n",
    "lrc = LogisticRegression(C = 430)\n",
    "knc = KNeighborsClassifier(weights = 'distance', n_neighbors=7, metric = 'manhattan')\n",
    "rfc = RandomForestClassifier(max_depth=23, n_estimators=1300, random_state=1)\n",
    "xgbc = xgb.XGBClassifier(silent=False, nthread=4, max_depth=2, n_estimators=4000, learning_rate=0.03)"
   ]
  },
  {
   "cell_type": "code",
   "execution_count": 38,
   "metadata": {},
   "outputs": [
    {
     "ename": "SyntaxError",
     "evalue": "invalid syntax (<ipython-input-38-09cf5f14ba55>, line 47)",
     "output_type": "error",
     "traceback": [
      "\u001b[0;36m  File \u001b[0;32m\"<ipython-input-38-09cf5f14ba55>\"\u001b[0;36m, line \u001b[0;32m47\u001b[0m\n\u001b[0;31m    return res_list\u001b[0m\n\u001b[0m         ^\u001b[0m\n\u001b[0;31mSyntaxError\u001b[0m\u001b[0;31m:\u001b[0m invalid syntax\n"
     ]
    }
   ],
   "source": [
    "def fin_classif(res_model, list_param, name_file):\n",
    "    res_list = []\n",
    "    list_preds_f = []\n",
    "    list_labels_f = []\n",
    "    for train_ind, test_ind in cross_validation.StratifiedKFold(dataframe_svm_l, n_folds=5, random_state=1):\n",
    "        np.random.shuffle(train_ind) \n",
    "        np.random.shuffle(test_ind)\n",
    "        \n",
    "        df_res = dataframe_svm_t[:, list_param>0]\n",
    "        df_res = np.hstack((df_res, preds1.reshape(len(preds1), 1)/4))\n",
    "        df_res = np.hstack((df_res, preds2.reshape(len(preds2), 1)/8))\n",
    "        df_res = np.hstack((df_res, preds3.reshape(len(preds3), 1)/12))\n",
    "              \n",
    "        df_b = dataframe_svm_t[:, load('boost_param.npy')]\n",
    "#         rfc.fit(df_b[train_ind], dataframe_svm_l[train_ind])\n",
    "#         boost_pred = rfc.predict_proba(df_b)\n",
    "#         df_res = np.hstack((df_res, boost_pred))\n",
    "\n",
    "        df_regr = dataframe_svm_t[:, load('regr_param.npy')]\n",
    "        svcc.fit(df_regr[train_ind], dataframe_svm_l[train_ind])\n",
    "        svcc_pred = svcc.predict_proba(df_regr)\n",
    "        df_res = np.hstack((df_res, svcc_pred))\n",
    "\n",
    "#         lrc.fit(df_regr[train_ind], dataframe_svm_l[train_ind])\n",
    "#         lrc_pred = lrc.predict_proba(df_regr)\n",
    "#         df_res = np.hstack((df_res, lrc_pred))\n",
    "\n",
    "#         knc.fit(dataframe_svm_t[train_ind], dataframe_svm_l[train_ind])\n",
    "#         knc_pred = knc.predict_proba(dataframe_svm_t)\n",
    "#         df_res = np.hstack((df_res, knc_pred))\n",
    "        \n",
    "        res_model.fit(df_res[train_ind], dataframe_svm_l[train_ind])\n",
    "        list_preds = res_model.predict(df_res[test_ind])\n",
    "        res = metrics.accuracy_score(dataframe_svm_l[test_ind], list_preds)\n",
    "        print(res)\n",
    "        res_list.append(res)\n",
    "        \n",
    "        if len(list_preds_f) == 0:\n",
    "            list_preds_f = list_preds\n",
    "            list_labels_f = dataframe_svm_l[test_ind]\n",
    "        else:\n",
    "            list_preds_f = np.vstack((list_preds_f, list_preds))\n",
    "            list_labels_f = np.hstack((list_labels_f, dataframe_svm_l[test_ind]))\n",
    "    \n",
    "    save(name_file, list_preds_f)\n",
    "    save('labels_m.npy', list_labels_f        \n",
    "    return res_list"
   ]
  },
  {
   "cell_type": "code",
   "execution_count": 27,
   "metadata": {},
   "outputs": [
    {
     "name": "stdout",
     "output_type": "stream",
     "text": [
      "0.8791208791208791\n",
      "0.8529411764705882\n",
      "0.8592592592592593\n",
      "0.9063670411985019\n",
      "0.8764044943820225\n",
      "mean = 0.8748185700862502\n",
      "std =  0.018638903150386684\n"
     ]
    }
   ],
   "source": [
    "rl = fin_classif(rfc, load('boost_param.npy'))\n",
    "print('mean =', np.mean(rl))\n",
    "print('std = ', np.std(rl))"
   ]
  },
  {
   "cell_type": "code",
   "execution_count": 26,
   "metadata": {},
   "outputs": [
    {
     "name": "stderr",
     "output_type": "stream",
     "text": [
      "/home/tosha/anaconda3/lib/python3.6/site-packages/sklearn/preprocessing/label.py:151: DeprecationWarning: The truth value of an empty array is ambiguous. Returning False, but in future this will result in an error. Use `array.size > 0` to check that an array is not empty.\n",
      "  if diff:\n"
     ]
    },
    {
     "name": "stdout",
     "output_type": "stream",
     "text": [
      "0.8754578754578755\n"
     ]
    },
    {
     "name": "stderr",
     "output_type": "stream",
     "text": [
      "/home/tosha/anaconda3/lib/python3.6/site-packages/sklearn/preprocessing/label.py:151: DeprecationWarning: The truth value of an empty array is ambiguous. Returning False, but in future this will result in an error. Use `array.size > 0` to check that an array is not empty.\n",
      "  if diff:\n"
     ]
    },
    {
     "name": "stdout",
     "output_type": "stream",
     "text": [
      "0.8566176470588235\n"
     ]
    },
    {
     "name": "stderr",
     "output_type": "stream",
     "text": [
      "/home/tosha/anaconda3/lib/python3.6/site-packages/sklearn/preprocessing/label.py:151: DeprecationWarning: The truth value of an empty array is ambiguous. Returning False, but in future this will result in an error. Use `array.size > 0` to check that an array is not empty.\n",
      "  if diff:\n"
     ]
    },
    {
     "name": "stdout",
     "output_type": "stream",
     "text": [
      "0.8407407407407408\n"
     ]
    },
    {
     "name": "stderr",
     "output_type": "stream",
     "text": [
      "/home/tosha/anaconda3/lib/python3.6/site-packages/sklearn/preprocessing/label.py:151: DeprecationWarning: The truth value of an empty array is ambiguous. Returning False, but in future this will result in an error. Use `array.size > 0` to check that an array is not empty.\n",
      "  if diff:\n"
     ]
    },
    {
     "name": "stdout",
     "output_type": "stream",
     "text": [
      "0.8913857677902621\n",
      "0.8614232209737828\n",
      "mean = 0.8651250504042969\n",
      "std =  0.01718759181384516\n"
     ]
    },
    {
     "name": "stderr",
     "output_type": "stream",
     "text": [
      "/home/tosha/anaconda3/lib/python3.6/site-packages/sklearn/preprocessing/label.py:151: DeprecationWarning: The truth value of an empty array is ambiguous. Returning False, but in future this will result in an error. Use `array.size > 0` to check that an array is not empty.\n",
      "  if diff:\n"
     ]
    }
   ],
   "source": [
    "rl = fin_classif(xgbc, load('boost_param.npy'))\n",
    "print('mean =', np.mean(rl))\n",
    "print('std = ', np.std(rl))"
   ]
  },
  {
   "cell_type": "code",
   "execution_count": 25,
   "metadata": {},
   "outputs": [
    {
     "name": "stdout",
     "output_type": "stream",
     "text": [
      "0.8974358974358975\n",
      "0.8713235294117647\n",
      "0.8777777777777778\n",
      "0.898876404494382\n",
      "0.8689138576779026\n",
      "mean = 0.882865493359545\n",
      "std =  0.01282494343162518\n"
     ]
    }
   ],
   "source": [
    "rl = fin_classif(lrc, load('regr_param.npy'))\n",
    "print('mean =', np.mean(rl))\n",
    "print('std = ', np.std(rl))"
   ]
  },
  {
   "cell_type": "code",
   "execution_count": 40,
   "metadata": {},
   "outputs": [
    {
     "name": "stdout",
     "output_type": "stream",
     "text": [
      "0.9010989010989011\n",
      "0.8602941176470589\n",
      "0.8592592592592593\n",
      "0.8838951310861424\n",
      "0.8689138576779026\n",
      "mean = 0.8746922533538528\n",
      "std =  0.015880034501407035\n"
     ]
    }
   ],
   "source": [
    "rl = fin_classif(knc, load('boost_param.npy'))\n",
    "print('mean =', np.mean(rl))\n",
    "print('std = ', np.std(rl))"
   ]
  },
  {
   "cell_type": "code",
   "execution_count": 16,
   "metadata": {},
   "outputs": [
    {
     "name": "stdout",
     "output_type": "stream",
     "text": [
      "0.8717948717948718\n",
      "0.8644688644688645\n",
      "0.8302583025830258\n",
      "0.8364312267657993\n",
      "0.846441947565543\n",
      "mean = 0.8498790426356209\n",
      "std =  0.015942379265744204\n"
     ]
    }
   ],
   "source": [
    "rl = fin_classif(svcc, load('regr_param.npy'))\n",
    "print('mean =', np.mean(rl))\n",
    "print('std = ', np.std(rl))"
   ]
  }
 ],
 "metadata": {
  "kernelspec": {
   "display_name": "Python 3",
   "language": "python",
   "name": "python3"
  },
  "language_info": {
   "codemirror_mode": {
    "name": "ipython",
    "version": 3
   },
   "file_extension": ".py",
   "mimetype": "text/x-python",
   "name": "python",
   "nbconvert_exporter": "python",
   "pygments_lexer": "ipython3",
   "version": "3.6.4"
  }
 },
 "nbformat": 4,
 "nbformat_minor": 2
}
