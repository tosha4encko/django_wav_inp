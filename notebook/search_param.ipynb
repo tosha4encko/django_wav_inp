{
 "cells": [
  {
   "cell_type": "code",
   "execution_count": 1,
   "metadata": {},
   "outputs": [
    {
     "name": "stderr",
     "output_type": "stream",
     "text": [
      "/home/tosha/anaconda3/lib/python3.6/site-packages/sklearn/cross_validation.py:41: DeprecationWarning: This module was deprecated in version 0.18 in favor of the model_selection module into which all the refactored classes and functions are moved. Also note that the interface of the new CV iterators are different from that of this module. This module will be removed in 0.20.\n",
      "  \"This module will be removed in 0.20.\", DeprecationWarning)\n",
      "/home/tosha/anaconda3/lib/python3.6/site-packages/sklearn/grid_search.py:42: DeprecationWarning: This module was deprecated in version 0.18 in favor of the model_selection module into which all the refactored classes and functions are moved. This module will be removed in 0.20.\n",
      "  DeprecationWarning)\n"
     ]
    },
    {
     "name": "stdout",
     "output_type": "stream",
     "text": [
      "Populating the interactive namespace from numpy and matplotlib\n"
     ]
    }
   ],
   "source": [
    "from sklearn import svm, metrics, random_projection, cross_validation, datasets, grid_search, linear_model, metrics, random_projection, manifold, preprocessing\n",
    "import numpy as np\n",
    "import pandas as pd\n",
    "from sklearn.ensemble import RandomForestClassifier\n",
    "from sklearn.neighbors import KNeighborsClassifier\n",
    "from sklearn.linear_model import LogisticRegression\n",
    "from sklearn.metrics import classification_report\n",
    "from collections import  Counter\n",
    "import numpy as np\n",
    "import pandas as pd\n",
    "from sklearn.decomposition import RandomizedPCA\n",
    "from sklearn import manifold\n",
    "import matplotlib.pyplot as plt\n",
    "from sklearn import preprocessing\n",
    "from sklearn.cluster import KMeans\n",
    "from sklearn.linear_model import SGDRegressor\n",
    "from sklearn.decomposition import TruncatedSVD, PCA\n",
    "from sklearn.svm import SVC\n",
    "import xgboost as xgb\n",
    "%pylab inline"
   ]
  },
  {
   "cell_type": "code",
   "execution_count": 2,
   "metadata": {},
   "outputs": [
    {
     "data": {
      "text/plain": [
       "(1601, 201)"
      ]
     },
     "execution_count": 2,
     "metadata": {},
     "output_type": "execute_result"
    }
   ],
   "source": [
    "dataframe = pd.read_csv('dataframe/genres_40.csv')\n",
    "labels = ['hiphop', 'classical', 'jazz', 'rock', 'metal', 'synth', 'pop', 'blues']\n",
    "dataframe.loc[:, 'm1':] = preprocessing.normalize(dataframe.loc[:, 'm1':])\n",
    "dataframe = dataframe.sample(frac=1)\n",
    "\n",
    "shape(dataframe)"
   ]
  },
  {
   "cell_type": "code",
   "execution_count": 5,
   "metadata": {},
   "outputs": [],
   "source": [
    "def search_gr(data, label, list_model, list_param_gr):\n",
    "    cv = cross_validation.StratifiedShuffleSplit(label, n_iter = 5, test_size = 0.2, random_state = 1)\n",
    "    i = 1\n",
    "    for model, param_gr in zip(list_model, list_param_gr):\n",
    "        grid_cv = grid_search.GridSearchCV(model, param_gr, cv = cv)\n",
    "        grid_cv.fit(data, label)\n",
    "        print('model' + str(i), grid_cv.best_score_, grid_cv.best_params_)"
   ]
  },
  {
   "cell_type": "code",
   "execution_count": 6,
   "metadata": {},
   "outputs": [],
   "source": [
    "#kn"
   ]
  },
  {
   "cell_type": "code",
   "execution_count": 7,
   "metadata": {},
   "outputs": [],
   "source": [
    "parameters_knc =[\n",
    "    {\n",
    "        'n_neighbors': [5, 7, 17, 27],\n",
    "        'metric': ['manhattan', 'minkowski', 'euclidean']\n",
    "    }\n",
    "]\n",
    "knc = KNeighborsClassifier(weights = 'distance')\n",
    "\n",
    "parameters_lrc =[\n",
    "    {\n",
    "        'C':  [400, 430, 440, 450, 500]\n",
    "    }\n",
    "]\n",
    "lrc = LogisticRegression(random_state=1)\n",
    "\n",
    "parameters_svcc =[\n",
    "    {\n",
    "        'C': [1, 5, 10, 15, 17],\n",
    "        'gamma': [1, 3, 5, 10, 15],\n",
    "        'kernel': ['rbf', 'linear', 'poly']\n",
    "    }\n",
    "]\n",
    "svcc = SVC(random_state=1)\n",
    "\n"
   ]
  },
  {
   "cell_type": "code",
   "execution_count": 8,
   "metadata": {},
   "outputs": [],
   "source": [
    "data = np.hstack((load('knc.npy'), load('svcc.npy'), load('lrc.npy'), load('xgbc.npy')))"
   ]
  },
  {
   "cell_type": "code",
   "execution_count": 9,
   "metadata": {},
   "outputs": [
    {
     "name": "stdout",
     "output_type": "stream",
     "text": [
      "model1 0.8794117647058823 {'C': 1, 'gamma': 1, 'kernel': 'rbf'}\n",
      "model1 0.8838235294117647 {'metric': 'manhattan', 'n_neighbors': 27}\n",
      "model1 0.861764705882353 {'C': 400}\n"
     ]
    }
   ],
   "source": [
    "search_gr(data, load('labels.npy'), [svcc, knc, lrc], [parameters_svcc, parameters_knc, parameters_lrc])"
   ]
  },
  {
   "cell_type": "code",
   "execution_count": null,
   "metadata": {},
   "outputs": [],
   "source": []
  },
  {
   "cell_type": "code",
   "execution_count": 109,
   "metadata": {},
   "outputs": [
    {
     "name": "stdout",
     "output_type": "stream",
     "text": [
      "Ridge mean:0.7862337148051285, max:0.8033071830373378, min:0.771793555351703, std:0.010949127566336057\n"
     ]
    }
   ],
   "source": [
    "lrc = LogisticRegression(C = 430, random_state=1)\n",
    "ridge_scoring2 = cross_validation.cross_val_score(lrc, dataframe.loc[:, 'm1':], dataframe['tag'], \n",
    "                                                          scoring='f1_weighted', cv = 5)\n",
    "print('Ridge mean:{}, max:{}, min:{}, std:{}'.format(ridge_scoring2.mean(), ridge_scoring2.max(),\n",
    "                                                     ridge_scoring2.min(), ridge_scoring2.std()))"
   ]
  },
  {
   "cell_type": "code",
   "execution_count": 4,
   "metadata": {},
   "outputs": [
    {
     "name": "stdout",
     "output_type": "stream",
     "text": [
      "(1352, 201)\n"
     ]
    }
   ],
   "source": [
    "def search_abnom(dataframe, label, g, nu):\n",
    "    svm_ = svm.OneClassSVM(gamma=g, nu=nu)\n",
    "    svm_.fit(dataframe[dataframe['tag'] == label].loc[:, 'm1':])\n",
    "    l = svm_.predict(dataframe[dataframe['tag'] == label].loc[:, 'm1':])\n",
    "    return l\n",
    "\n",
    "labels = ['hiphop', 'classical', 'jazz', 'rock', 'metal', 'synth', 'pop', 'blues']\n",
    "for label in labels:\n",
    "    svm_label = search_abnom(dataframe, label, 2, 0.15).tolist()\n",
    "    dataframe[dataframe['tag'] == label] = dataframe[dataframe['tag'] == label][np.array(svm_label) == 1]\n",
    "    dataframe = dataframe.dropna()\n",
    "print(shape(dataframe))"
   ]
  },
  {
   "cell_type": "code",
   "execution_count": 107,
   "metadata": {},
   "outputs": [
    {
     "name": "stdout",
     "output_type": "stream",
     "text": [
      "Ridge mean:0.8120383930038099, max:0.8470242155267215, min:0.7769197646114958, std:0.030620005516038183\n"
     ]
    }
   ],
   "source": [
    "lrc = LogisticRegression(C = 430, random_state=1)\n",
    "ridge_scoring2 = cross_validation.cross_val_score(lrc, dataframe.loc[:, 'm1':], dataframe['tag'], \n",
    "                                                          scoring='f1_weighted', cv = 5)\n",
    "print('Ridge mean:{}, max:{}, min:{}, std:{}'.format(ridge_scoring2.mean(), ridge_scoring2.max(),\n",
    "                                                     ridge_scoring2.min(), ridge_scoring2.std()))"
   ]
  },
  {
   "cell_type": "code",
   "execution_count": 12,
   "metadata": {},
   "outputs": [
    {
     "name": "stdout",
     "output_type": "stream",
     "text": [
      "model1 0.8776223776223776 {'C': 5, 'gamma': 10, 'kernel': 'rbf'}\n"
     ]
    }
   ],
   "source": [
    "search_gr(dataframe.loc[:, 'm1':], dataframe['tag'], [svcc], [parameters_svcc])"
   ]
  },
  {
   "cell_type": "code",
   "execution_count": null,
   "metadata": {},
   "outputs": [],
   "source": []
  },
  {
   "cell_type": "code",
   "execution_count": 10,
   "metadata": {},
   "outputs": [],
   "source": [
    "parameters_rfc =[\n",
    "    {\n",
    "        'max_depth':[20, 23, 25, 30], \n",
    "        'n_estimators':[1000, 1300, 1500, 1600]\n",
    "    }\n",
    "]\n",
    "rfc = RandomForestClassifier(random_state=1)\n",
    "\n",
    "parameters_xgbc =[\n",
    "    {\n",
    "        'max_depth': [2], \n",
    "        'n_estimators': [1800, 2000, 4000, 6000] \n",
    "    }\n",
    "]\n",
    "xgbc = xgb.XGBClassifier(silent=False, learning_rate=0.009)\n"
   ]
  },
  {
   "cell_type": "code",
   "execution_count": null,
   "metadata": {},
   "outputs": [
    {
     "name": "stdout",
     "output_type": "stream",
     "text": [
      "model1 0.8772058823529412 {'max_depth': 20, 'n_estimators': 1300}\n"
     ]
    }
   ],
   "source": [
    "search_gr(data, load('labels.npy'), [rfc], [parameters_rfc])"
   ]
  },
  {
   "cell_type": "code",
   "execution_count": null,
   "metadata": {},
   "outputs": [
    {
     "name": "stderr",
     "output_type": "stream",
     "text": [
      "/home/tosha/anaconda3/lib/python3.6/site-packages/sklearn/preprocessing/label.py:151: DeprecationWarning: The truth value of an empty array is ambiguous. Returning False, but in future this will result in an error. Use `array.size > 0` to check that an array is not empty.\n",
      "  if diff:\n"
     ]
    }
   ],
   "source": [
    "search_gr(data, load('labels.npy'), [xgbc], [parameters_xgbc])"
   ]
  }
 ],
 "metadata": {
  "kernelspec": {
   "display_name": "Python 3",
   "language": "python",
   "name": "python3"
  },
  "language_info": {
   "codemirror_mode": {
    "name": "ipython",
    "version": 3
   },
   "file_extension": ".py",
   "mimetype": "text/x-python",
   "name": "python",
   "nbconvert_exporter": "python",
   "pygments_lexer": "ipython3",
   "version": "3.6.4"
  }
 },
 "nbformat": 4,
 "nbformat_minor": 2
}
